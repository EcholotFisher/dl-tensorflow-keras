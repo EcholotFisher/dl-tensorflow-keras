{
 "cells": [
  {
   "cell_type": "markdown",
   "metadata": {},
   "source": [
    "# <center>MNIST - Multiclass Classification With CNN (Keras)</center>\n",
    "<center><img src=\"files/keras-logo.png\"></center>\n",
    "\n",
    "In this notebook, we will illustrate multi-class classification for the [MNIST dataset](http://yann.lecun.com/exdb/mnist/) using Convolution Neural Networks (CNN). \n",
    "\n",
    "The MNIST dataset is an image dataset of handwritten digits. It has has 60,000 training images and 10,000 test images, each of which are grayscale 28 x 28 sized images.It is a good beginner's dataset to try learning techniques and pattern recognition methods on real-world data while spending minimal efforts on preprocessing and formatting.\n",
    "\n",
    "In this notebook, we will develop a Convolutional Neural Network using the Keras library to classify these handwritten images. "
   ]
  },
  {
   "cell_type": "code",
   "execution_count": 1,
   "metadata": {},
   "outputs": [],
   "source": [
    "# imports & tweaks\n",
    "import numpy as np\n",
    "import matplotlib.pyplot as plt\n",
    "import seaborn as sns\n",
    "import sys, time\n",
    "\n",
    "plt.style.use('seaborn-colorblind')\n",
    "plt.rcParams['figure.figsize'] = (8,6)\n",
    "sns.set_style('darkgrid')\n",
    "sns.set_context('talk')\n",
    "sns.set_style({'font.sans-serif':['Verdana','Arial','Calibri','DejaVu Sans']})\n",
    "%matplotlib inline\n",
    "\n",
    "# NOTE: Always use a seed for random number generators, so you get same results across runs\n",
    "# you can use any number as the seed \n",
    "seed = 123\n",
    "np.random.seed(seed)"
   ]
  },
  {
   "cell_type": "markdown",
   "metadata": {},
   "source": [
    "## Preprocessing the Images\n",
    "\n",
    "While you can download the dataset from [this link](http://yann.lecun.com/exdb/mnist/), the Keras library already includes these digits in the `keras.datasets` module. We will load the digits from this library to save pre-processing time. I am going to use the `karas.datasets.mnist.load_data()` call. This function conveniently returns two tuples of images & labels - one for the training dataset and the other for test dataset. \n",
    "\n",
    "However:\n",
    "* The images are not _shaped_ correctly - images tuples are shaped as `(num_samples, image_height, image_width)`, whereas we need them to be shaped as `(num_samples, image_height, image_width, num_channels)`, which is input shape of our images to the CNN.You can feed the images in any shape (e.g. `(num_samples, image_height * image_width)`, so long as you are consistent across the training & test sets!)\n",
    "* The images data needs to be converted to `float32` and scaled (we will opt to scale values between 0.0 and 1.0)\n",
    "* While the label tuples are shaped correctly as `(num_samples, class)`, we need to _one-hot-encode_ the labels, so our CNN output layer can correctly process it. For 10 output class, each label should be encoded into an array of shape `(1, 10)` with all zeros except at the index of the digit (e.g. 3 becomes `[0 0 0 1 0 0 0 0 0 0]` and so on).\n",
    "\n",
    "We will handle all these transformations as in our pre-processing code below."
   ]
  },
  {
   "cell_type": "code",
   "execution_count": 2,
   "metadata": {},
   "outputs": [
    {
     "name": "stderr",
     "output_type": "stream",
     "text": [
      "Using TensorFlow backend.\n"
     ]
    }
   ],
   "source": [
    "from keras.datasets.mnist import load_data\n",
    "from keras.utils import to_categorical"
   ]
  },
  {
   "cell_type": "code",
   "execution_count": 3,
   "metadata": {},
   "outputs": [
    {
     "data": {
      "text/plain": [
       "((60000, 28, 28), (60000,), (10000, 28, 28), (10000,))"
      ]
     },
     "execution_count": 3,
     "metadata": {},
     "output_type": "execute_result"
    }
   ],
   "source": [
    "(train_digits, train_labels), (test_digits, test_labels) = load_data()\n",
    "train_digits.shape, train_labels.shape, test_digits.shape, test_labels.shape"
   ]
  },
  {
   "cell_type": "markdown",
   "metadata": {},
   "source": [
    "Notice that we have 60,000 images in the training set & 10,000 images in the test set. Let's randomly pick `14 images` from the `train_digits` set and see how they look."
   ]
  },
  {
   "cell_type": "code",
   "execution_count": 4,
   "metadata": {},
   "outputs": [],
   "source": [
    "rand_14 = np.random.randint(0, train_digits.shape[0],14)\n",
    "sample_digits = train_digits[rand_14]\n",
    "sample_labels = train_labels[rand_14]"
   ]
  },
  {
   "cell_type": "code",
   "execution_count": 5,
   "metadata": {},
   "outputs": [
    {
     "data": {
      "image/png": "[encoded data removed]",
      "text/plain": [
       "<Figure size 864x360 with 14 Axes>"
      ]
     },
     "metadata": {},
     "output_type": "display_data"
    }
   ],
   "source": [
    "num_rows, num_cols = 2, 7\n",
    "f, ax = plt.subplots(num_rows, num_cols, figsize=(12,5),gridspec_kw={'wspace':0.03, 'hspace':0.01}, squeeze=True)\n",
    "for r in range(num_rows):\n",
    "    for c in range(num_cols):\n",
    "        image_index = r * 7 + c\n",
    "        ax[r,c].axis(\"off\")\n",
    "        ax[r,c].imshow(sample_digits[image_index], cmap='gray')\n",
    "        ax[r,c].set_title('No. %d' % sample_labels[image_index])\n",
    "plt.show()\n",
    "plt.close()"
   ]
  },
  {
   "cell_type": "markdown",
   "metadata": {},
   "source": [
    "Next we will prepare the data for consumption by our Convolutional Neural Network, which we will create later. Recall that this involves:\n",
    "* **Reshaping the images data** to a tensor of shape `(num_samples, image_height, image_width, num_channels)` - for our 28x28 grayscale images, this would be `(num_samples, 28, 28, 1)`, where `num_samples = 60,000` for train dataset and `num_samples = 10,000` for test dataset. An `np.reshape(...)` call will help us do just that.\n",
    "* **Re-scaling the images data** to a values between 0.0 and 255.0\n",
    "* **One-hot-encode** the labels - Keras provides a `to_categorical()` function in it's `utils` module, which we will use."
   ]
  },
  {
   "cell_type": "code",
   "execution_count": 6,
   "metadata": {},
   "outputs": [
    {
     "data": {
      "text/plain": [
       "(28, 28, 1, 784)"
      ]
     },
     "execution_count": 6,
     "metadata": {},
     "output_type": "execute_result"
    }
   ],
   "source": [
    "# some variables to help with pre-processing...\n",
    "image_height, image_width = train_digits.shape[1], train_digits.shape[2]\n",
    "num_channels = 1  # we have grayscale images\n",
    "input_shape = image_height * image_width * num_channels\n",
    "image_height, image_width, num_channels, input_shape"
   ]
  },
  {
   "cell_type": "code",
   "execution_count": 7,
   "metadata": {},
   "outputs": [
    {
     "data": {
      "text/plain": [
       "((60000, 28, 28, 1), (10000, 28, 28, 1))"
      ]
     },
     "execution_count": 7,
     "metadata": {},
     "output_type": "execute_result"
    }
   ],
   "source": [
    "# re-shape the images data\n",
    "train_data = np.reshape(train_digits,(train_digits.shape[0], image_height, image_width, num_channels))\n",
    "test_data = np.reshape(test_digits,(test_digits.shape[0],image_height, image_width, num_channels))\n",
    "train_data.shape, test_data.shape"
   ]
  },
  {
   "cell_type": "code",
   "execution_count": 8,
   "metadata": {},
   "outputs": [],
   "source": [
    "# re-scale the images data to values between (0.0 and 255.0] (i.e. 0.0 <= value < 255.0)\n",
    "train_data = train_data.astype('float32') / 255.\n",
    "test_data = test_data.astype('float32') / 255."
   ]
  },
  {
   "cell_type": "code",
   "execution_count": 9,
   "metadata": {},
   "outputs": [
    {
     "data": {
      "text/plain": [
       "((60000, 10), (10000, 10))"
      ]
     },
     "execution_count": 9,
     "metadata": {},
     "output_type": "execute_result"
    }
   ],
   "source": [
    "# one-hot-encode the labels\n",
    "num_classes = 10\n",
    "train_labels_cat = to_categorical(train_labels,num_classes)\n",
    "test_labels_cat = to_categorical(test_labels,num_classes)\n",
    "train_labels_cat.shape, test_labels_cat.shape"
   ]
  },
  {
   "cell_type": "code",
   "execution_count": 10,
   "metadata": {},
   "outputs": [
    {
     "data": {
      "text/plain": [
       "((60000, 28, 28, 1), (60000, 10), (10000, 28, 28, 1), (10000, 10))"
      ]
     },
     "execution_count": 10,
     "metadata": {},
     "output_type": "execute_result"
    }
   ],
   "source": [
    "train_data.shape, train_labels_cat.shape, test_data.shape, test_labels_cat.shape"
   ]
  },
  {
   "cell_type": "markdown",
   "metadata": {},
   "source": [
    "Perfect!\n",
    "\n",
    "Next we will split the _training set_ into _training & cross-validation_ sets. I will _train_ my model _on the training set_ & _evaluate performance on validation set_ during the training process (i.e. cross-validate). I will _set aside the test-set_ for a final test run, after I am satisfied with my metrics from training. This way, I always have some data that the model has never seen. This helps me avoid overfitting to some extent. We will set aside 10% of the training_set as the validation set.<br/>\n",
    "Of course, to ensure randomness in selecting the data, we will also shuffle the training set (5 times!)."
   ]
  },
  {
   "cell_type": "code",
   "execution_count": 11,
   "metadata": {},
   "outputs": [
    {
     "data": {
      "text/plain": [
       "((54000, 28, 28, 1),\n",
       " (54000, 10),\n",
       " (6000, 28, 28, 1),\n",
       " (6000, 10),\n",
       " (10000, 28, 28, 1),\n",
       " (10000,))"
      ]
     },
     "execution_count": 11,
     "metadata": {},
     "output_type": "execute_result"
    }
   ],
   "source": [
    "# shuffle the training dataset & set aside val_perc % of rows as validation data\n",
    "for _ in range(5): \n",
    "    indexes = np.random.permutation(len(train_data))\n",
    "\n",
    "# randomly sorted!\n",
    "train_data = train_data[indexes]\n",
    "train_labels_cat = train_labels_cat[indexes]\n",
    "\n",
    "# now we will set-aside val_perc% of the train_data/labels as cross-validation sets\n",
    "val_perc = 0.10\n",
    "val_count = int(val_perc * len(train_data))\n",
    "\n",
    "# first pick validation set\n",
    "val_data = train_data[:val_count,:]\n",
    "val_labels_cat = train_labels_cat[:val_count,:]\n",
    "\n",
    "# leave rest in training set\n",
    "train_data2 = train_data[val_count:,:]\n",
    "train_labels_cat2 = train_labels_cat[val_count:,:]\n",
    "\n",
    "train_data2.shape, train_labels_cat2.shape, val_data.shape, val_labels_cat.shape, test_data.shape, test_labels.shape"
   ]
  },
  {
   "cell_type": "code",
   "execution_count": 12,
   "metadata": {},
   "outputs": [],
   "source": [
    "# some globals\n",
    "num_features = train_data.shape[1]\n",
    "num_epochs = 15\n",
    "batch_size = 64"
   ]
  },
  {
   "cell_type": "markdown",
   "metadata": {},
   "source": [
    "## Helper Functions"
   ]
  },
  {
   "cell_type": "code",
   "execution_count": 13,
   "metadata": {},
   "outputs": [],
   "source": [
    "# a utility function that plots the losses and accuracies for training & validation sets across our epochs\n",
    "def show_plots(history):\n",
    "    \"\"\" Useful function to view plot of loss values & accuracies across the various epochs \"\"\"\n",
    "    loss_vals = history['loss']\n",
    "    val_loss_vals = history['val_loss']\n",
    "    epochs = range(1, len(history['acc'])+1)\n",
    "    \n",
    "    f, ax = plt.subplots(nrows=1,ncols=2,figsize=(16,4))\n",
    "    \n",
    "    # plot losses on ax[0]\n",
    "    ax[0].plot(epochs, loss_vals, color='navy',marker='o', linestyle=' ', label='Training Loss')\n",
    "    ax[0].plot(epochs, val_loss_vals, color='firebrick', marker='*', label='Validation Loss')\n",
    "    ax[0].set_title('Training & Validation Loss')\n",
    "    ax[0].set_xlabel('Epochs')\n",
    "    ax[0].set_ylabel('Loss')\n",
    "    ax[0].legend(loc='best')\n",
    "    ax[0].grid(True)\n",
    "    \n",
    "    # plot accuracies\n",
    "    acc_vals = history['acc']\n",
    "    val_acc_vals = history['val_acc']\n",
    "\n",
    "    ax[1].plot(epochs, acc_vals, color='navy', marker='o', ls=' ', label='Training Accuracy')\n",
    "    ax[1].plot(epochs, val_acc_vals, color='firebrick', marker='*', label='Validation Accuracy')\n",
    "    ax[1].set_title('Training & Validation Accuracy')\n",
    "    ax[1].set_xlabel('Epochs')\n",
    "    ax[1].set_ylabel('Accuracy')\n",
    "    ax[1].legend(loc='best')\n",
    "    ax[1].grid(True)\n",
    "    \n",
    "    plt.show()\n",
    "    plt.close()\n",
    "    \n",
    "    # delete locals from heap before exiting\n",
    "    del loss_vals, val_loss_vals, epochs, acc_vals, val_acc_vals"
   ]
  },
  {
   "cell_type": "code",
   "execution_count": 14,
   "metadata": {},
   "outputs": [],
   "source": [
    "def print_time_taken(start_time, end_time):\n",
    "    secs_elapsed = end_time - start_time\n",
    "    \n",
    "    SECS_PER_MIN = 60\n",
    "    SECS_PER_HR  = 60 * SECS_PER_MIN\n",
    "    \n",
    "    hrs_elapsed, secs_elapsed = divmod(secs_elapsed, SECS_PER_HR)\n",
    "    mins_elapsed, secs_elapsed = divmod(secs_elapsed, SECS_PER_MIN)\n",
    "    \n",
    "    if hrs_elapsed > 0:\n",
    "        print('Time taken: %d hrs %d mins %d secs' % (hrs_elapsed, mins_elapsed, secs_elapsed))\n",
    "    elif mins_elapsed > 0:\n",
    "        print('Time taken: %d mins %d secs' % (mins_elapsed, secs_elapsed))\n",
    "    elif secs_elapsed > 1:\n",
    "        print('Time taken: %d secs' % (secs_elapsed))\n",
    "    else:\n",
    "        print('Time taken - less than 1 sec')"
   ]
  },
  {
   "cell_type": "markdown",
   "metadata": {},
   "source": [
    "## Keras Model Development\n",
    "\n",
    "Our Keras model will have the following configuration:\n",
    "* 3 `Conv2d` layers, each with 32, 64 and 64 filters and `relu` activation functions and a `(3,3)` kernel size, and `padding='same'`\n",
    "* We follow each Conv2d layer with a `MaxPooling2d` layer with a `(2,2)` pool size\n",
    "* Finally, we have a `Dense` layer with 512 nodes and `relu` activation.\n",
    "* The output `Dense` layer has 10 nodes (for the 10 digits) and a `softmax` activation function (for a a multi-class classification problem)\n",
    "* We use the `categorical-crossentropy` loss and the `adam` optimizer."
   ]
  },
  {
   "cell_type": "code",
   "execution_count": 15,
   "metadata": {},
   "outputs": [],
   "source": [
    "from keras.models import Sequential\n",
    "from keras.layers import Conv2D, MaxPooling2D, Flatten, Dense, Dropout"
   ]
  },
  {
   "cell_type": "code",
   "execution_count": 16,
   "metadata": {},
   "outputs": [],
   "source": [
    "def build_model():\n",
    "    model = Sequential()\n",
    "    # add Convolutional layers\n",
    "    model.add(Conv2D(filters=32, kernel_size=(3,3), activation='relu', padding='same',\n",
    "                     input_shape=(image_height, image_width, num_channels)))\n",
    "    model.add(MaxPooling2D(pool_size=(2,2)))\n",
    "    model.add(Conv2D(filters=64, kernel_size=(3,3), activation='relu', padding='same'))\n",
    "    model.add(MaxPooling2D(pool_size=(2,2)))\n",
    "    model.add(Conv2D(filters=64, kernel_size=(3,3), activation='relu', padding='same'))\n",
    "    model.add(MaxPooling2D(pool_size=(2,2)))    \n",
    "    model.add(Flatten())\n",
    "    # Densely connected layers\n",
    "    model.add(Dense(128, activation='relu'))\n",
    "    # output layer\n",
    "    model.add(Dense(num_classes, activation='softmax'))\n",
    "    # compile with adam optimizer & categorical_crossentropy loss function\n",
    "    model.compile(optimizer='adam', loss='categorical_crossentropy', metrics=['accuracy'])\n",
    "    return model"
   ]
  },
  {
   "cell_type": "code",
   "execution_count": 17,
   "metadata": {},
   "outputs": [
    {
     "name": "stdout",
     "output_type": "stream",
     "text": [
      "_________________________________________________________________\n",
      "Layer (type)                 Output Shape              Param #   \n",
      "=================================================================\n",
      "conv2d_1 (Conv2D)            (None, 28, 28, 32)        320       \n",
      "_________________________________________________________________\n",
      "max_pooling2d_1 (MaxPooling2 (None, 14, 14, 32)        0         \n",
      "_________________________________________________________________\n",
      "conv2d_2 (Conv2D)            (None, 14, 14, 64)        18496     \n",
      "_________________________________________________________________\n",
      "max_pooling2d_2 (MaxPooling2 (None, 7, 7, 64)          0         \n",
      "_________________________________________________________________\n",
      "conv2d_3 (Conv2D)            (None, 7, 7, 64)          36928     \n",
      "_________________________________________________________________\n",
      "max_pooling2d_3 (MaxPooling2 (None, 3, 3, 64)          0         \n",
      "_________________________________________________________________\n",
      "flatten_1 (Flatten)          (None, 576)               0         \n",
      "_________________________________________________________________\n",
      "dense_1 (Dense)              (None, 128)               73856     \n",
      "_________________________________________________________________\n",
      "dense_2 (Dense)              (None, 10)                1290      \n",
      "=================================================================\n",
      "Total params: 130,890\n",
      "Trainable params: 130,890\n",
      "Non-trainable params: 0\n",
      "_________________________________________________________________\n",
      "None\n"
     ]
    }
   ],
   "source": [
    "model = build_model()\n",
    "print(model.summary())"
   ]
  },
  {
   "cell_type": "code",
   "execution_count": 18,
   "metadata": {},
   "outputs": [
    {
     "name": "stdout",
     "output_type": "stream",
     "text": [
      "Train on 54000 samples, validate on 6000 samples\n",
      "Epoch 1/15\n",
      "54000/54000 [==============================] - 58s 1ms/step - loss: 0.1749 - acc: 0.9452 - val_loss: 0.0579 - val_acc: 0.9807\n",
      "Epoch 2/15\n",
      "54000/54000 [==============================] - 65s 1ms/step - loss: 0.0492 - acc: 0.9845 - val_loss: 0.0364 - val_acc: 0.9885\n",
      "Epoch 3/15\n",
      "54000/54000 [==============================] - 64s 1ms/step - loss: 0.0352 - acc: 0.9887 - val_loss: 0.0344 - val_acc: 0.9893\n",
      "Epoch 4/15\n",
      "54000/54000 [==============================] - 62s 1ms/step - loss: 0.0272 - acc: 0.9913 - val_loss: 0.0386 - val_acc: 0.9875\n",
      "Epoch 5/15\n",
      "54000/54000 [==============================] - 62s 1ms/step - loss: 0.0234 - acc: 0.9924 - val_loss: 0.0365 - val_acc: 0.9898\n",
      "Epoch 6/15\n",
      "54000/54000 [==============================] - 69s 1ms/step - loss: 0.0173 - acc: 0.9941 - val_loss: 0.0329 - val_acc: 0.9900\n",
      "Epoch 7/15\n",
      "54000/54000 [==============================] - 63s 1ms/step - loss: 0.0149 - acc: 0.9951 - val_loss: 0.0291 - val_acc: 0.9917\n",
      "Epoch 8/15\n",
      "54000/54000 [==============================] - 58s 1ms/step - loss: 0.0135 - acc: 0.9956 - val_loss: 0.0315 - val_acc: 0.9922\n",
      "Epoch 9/15\n",
      "54000/54000 [==============================] - 58s 1ms/step - loss: 0.0125 - acc: 0.9959 - val_loss: 0.0252 - val_acc: 0.9927\n",
      "Epoch 10/15\n",
      "54000/54000 [==============================] - 62s 1ms/step - loss: 0.0106 - acc: 0.9964 - val_loss: 0.0300 - val_acc: 0.9912\n",
      "Epoch 11/15\n",
      "54000/54000 [==============================] - 60s 1ms/step - loss: 0.0083 - acc: 0.9972 - val_loss: 0.0411 - val_acc: 0.9892\n",
      "Epoch 12/15\n",
      "54000/54000 [==============================] - 55s 1ms/step - loss: 0.0082 - acc: 0.9972 - val_loss: 0.0290 - val_acc: 0.9922\n",
      "Epoch 13/15\n",
      "54000/54000 [==============================] - 62s 1ms/step - loss: 0.0084 - acc: 0.9972 - val_loss: 0.0333 - val_acc: 0.9902\n",
      "Epoch 14/15\n",
      "54000/54000 [==============================] - 57s 1ms/step - loss: 0.0056 - acc: 0.9983 - val_loss: 0.0330 - val_acc: 0.9908\n",
      "Epoch 15/15\n",
      "54000/54000 [==============================] - 60s 1ms/step - loss: 0.0071 - acc: 0.9977 - val_loss: 0.0282 - val_acc: 0.9935\n",
      "Time taken: 15 mins 17 secs\n"
     ]
    }
   ],
   "source": [
    "start_time = time.time()\n",
    "history = model.fit(train_data2, train_labels_cat2, epochs=15, batch_size=64,\n",
    "                    validation_data=(val_data, val_labels_cat))\n",
    "end_time = time.time()\n",
    "print_time_taken(start_time, end_time)"
   ]
  },
  {
   "cell_type": "markdown",
   "metadata": {},
   "source": [
    "**NOTE:** With this CNN, we get a training accuracy of 99.7% (and validation accuracy of 99.3%) - see last line of output above. \n",
    "\n",
    "Next, let us view plots of train & validation accuracies vs epochs and train & validation losses vs epochs. We will use the `show_plots()` helper function coded above which presents these charts in a 1x2 grid."
   ]
  },
  {
   "cell_type": "code",
   "execution_count": 19,
   "metadata": {},
   "outputs": [
    {
     "data": {
      "image/png": "[encoded data removed]",
      "text/plain": [
       "<Figure size 1152x288 with 2 Axes>"
      ]
     },
     "metadata": {},
     "output_type": "display_data"
    }
   ],
   "source": [
    "show_plots(history.history)"
   ]
  },
  {
   "cell_type": "markdown",
   "metadata": {},
   "source": [
    "The plots suggests that this Keras model is overfitting the training data after 3-4 epochs: \n",
    "* We can see from the top-left plot that the training loss is falling smoothly towards zero, however the test loss falls for some epochs and then rises somewhat after the 4th epoch.\n",
    "* Also in the accuracy plots (top-right), we observe that the training accuracu rises towards 100%, whereas the validation accuracy flattens out after around 4 epochs - at a value around 99%. \n",
    "* This is a typical behavior of an overfitting model. However our validation loss is not significantly lesser than our training loss, indicating that the model is overfitting only slightly.\n",
    "\n",
    "Let us see how our model is performing against test data that it has not _seen_ so far. "
   ]
  },
  {
   "cell_type": "code",
   "execution_count": 20,
   "metadata": {},
   "outputs": [
    {
     "name": "stdout",
     "output_type": "stream",
     "text": [
      "10000/10000 [==============================] - 4s 443us/step\n",
      "Test loss: 0.0341 accuracy: 0.9919\n"
     ]
    }
   ],
   "source": [
    "test_loss, test_accuracy = model.evaluate(test_data, test_labels_cat, batch_size=batch_size)\n",
    "print('Test loss: %.4f accuracy: %.4f' % (test_loss, test_accuracy))"
   ]
  },
  {
   "cell_type": "markdown",
   "metadata": {},
   "source": [
    "**Observation:** We get a test accuracy of 99.3% with the test data, which is a great metric! Our model is generalizing well (i.e. the accuracy score is good on data that it has not seen before). \n",
    "## Predictions\n",
    "Next, let us run some predictions using this model & test data."
   ]
  },
  {
   "cell_type": "code",
   "execution_count": 21,
   "metadata": {},
   "outputs": [],
   "source": [
    "# now let's predict the outcomes of our model\n",
    "kr_test_pred = model.predict(test_data)\n",
    "# NOTE: each member of kr_test_pred would be a (1,10) array \n",
    "# each index of the array holds the probability that the model thinks it is the digit at that offset\n",
    "# example for digit [??] -> [???]\n",
    "# The index which holds the maximum probability value is the predictioon"
   ]
  },
  {
   "cell_type": "code",
   "execution_count": 27,
   "metadata": {},
   "outputs": [
    {
     "data": {
      "text/plain": [
       "array([7, 2, 1, 0, 4, 1, 4, 9, 5, 9, 0, 6, 9, 0, 1, 5, 9, 7, 3, 4, 9, 6,\n",
       "       6, 5, 4])"
      ]
     },
     "execution_count": 27,
     "metadata": {},
     "output_type": "execute_result"
    }
   ],
   "source": [
    "# view first 20 - both predicted & actual\n",
    "np.argmax(kr_test_pred, axis=1)[:25]"
   ]
  },
  {
   "cell_type": "code",
   "execution_count": 28,
   "metadata": {},
   "outputs": [
    {
     "data": {
      "text/plain": [
       "array([7, 2, 1, 0, 4, 1, 4, 9, 5, 9, 0, 6, 9, 0, 1, 5, 9, 7, 3, 4, 9, 6,\n",
       "       6, 5, 4])"
      ]
     },
     "execution_count": 28,
     "metadata": {},
     "output_type": "execute_result"
    }
   ],
   "source": [
    "np.argmax(test_labels_cat,axis=1)[:25]"
   ]
  },
  {
   "cell_type": "code",
   "execution_count": 24,
   "metadata": {},
   "outputs": [
    {
     "data": {
      "text/plain": [
       "81"
      ]
     },
     "execution_count": 24,
     "metadata": {},
     "output_type": "execute_result"
    }
   ],
   "source": [
    "# how many mismatches?\n",
    "(np.argmax(kr_test_pred, axis=1) != np.argmax(test_labels_cat,axis=1)).sum()"
   ]
  },
  {
   "cell_type": "markdown",
   "metadata": {},
   "source": [
    "So, we have around 80 of 10,000 mismatched records in our test data. Not bad."
   ]
  },
  {
   "cell_type": "code",
   "execution_count": 26,
   "metadata": {},
   "outputs": [],
   "source": [
    "#save our model\n",
    "model.save('./model_states/keras_mnist.h5')"
   ]
  },
  {
   "cell_type": "markdown",
   "metadata": {},
   "source": [
    "# Summary\n",
    "* In this workbook we created a CNN with Keras to classify the MNIST digits.\n",
    "* We were able to achieve test accuracy of 99%, though our model was overfitting slightly.\n",
    "\n",
    "# <center> - - END - - </center>"
   ]
  }
 ],
 "metadata": {
  "kernelspec": {
   "display_name": "Python 3",
   "language": "python",
   "name": "python3"
  },
  "language_info": {
   "codemirror_mode": {
    "name": "ipython",
    "version": 3
   },
   "file_extension": ".py",
   "mimetype": "text/x-python",
   "name": "python",
   "nbconvert_exporter": "python",
   "pygments_lexer": "ipython3",
   "version": "3.6.6"
  }
 },
 "nbformat": 4,
 "nbformat_minor": 2
}
